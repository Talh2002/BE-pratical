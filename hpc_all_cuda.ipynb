{
  "nbformat": 4,
  "nbformat_minor": 0,
  "metadata": {
    "colab": {
      "provenance": []
    },
    "kernelspec": {
      "name": "python3",
      "display_name": "Python 3"
    },
    "language_info": {
      "name": "python"
    }
  },
  "cells": [
    {
      "cell_type": "code",
      "execution_count": null,
      "metadata": {
        "id": "ajEu6Hr2QUm6"
      },
      "outputs": [],
      "source": []
    },
    {
      "cell_type": "code",
      "source": [
        "!nvcc --version\n",
        "!pip install git+https://github.com/afnan47/cuda.git\n",
        "%load_ext nvcc_plugin"
      ],
      "metadata": {
        "id": "eCyCkyYhPT4s",
        "colab": {
          "base_uri": "https://localhost:8080/"
        },
        "outputId": "960d70da-7f37-4590-dd96-1a9bc1bc1663"
      },
      "execution_count": null,
      "outputs": [
        {
          "output_type": "stream",
          "name": "stdout",
          "text": [
            "nvcc: NVIDIA (R) Cuda compiler driver\n",
            "Copyright (c) 2005-2023 NVIDIA Corporation\n",
            "Built on Tue_Aug_15_22:02:13_PDT_2023\n",
            "Cuda compilation tools, release 12.2, V12.2.140\n",
            "Build cuda_12.2.r12.2/compiler.33191640_0\n",
            "Collecting git+https://github.com/afnan47/cuda.git\n",
            "  Cloning https://github.com/afnan47/cuda.git to /tmp/pip-req-build-yyy4jrxu\n",
            "  Running command git clone --filter=blob:none --quiet https://github.com/afnan47/cuda.git /tmp/pip-req-build-yyy4jrxu\n",
            "  Resolved https://github.com/afnan47/cuda.git to commit aac710a35f52bb78ab34d2e52517237941399eff\n",
            "  Preparing metadata (setup.py) ... \u001b[?25l\u001b[?25hdone\n",
            "Building wheels for collected packages: NVCCPlugin\n",
            "  Building wheel for NVCCPlugin (setup.py) ... \u001b[?25l\u001b[?25hdone\n",
            "  Created wheel for NVCCPlugin: filename=NVCCPlugin-0.0.2-py3-none-any.whl size=4289 sha256=03d5e0ad41d6f8a9c229c75e696f2ea037a09ce2fa737baf6f5f49a53d034cf9\n",
            "  Stored in directory: /tmp/pip-ephem-wheel-cache-ejkbww9r/wheels/aa/f3/44/e10c1d226ec561d971fcd4b0463f6bff08602afa928a3e7bc7\n",
            "Successfully built NVCCPlugin\n",
            "Installing collected packages: NVCCPlugin\n",
            "Successfully installed NVCCPlugin-0.0.2\n",
            "created output directory at /content/src\n",
            "Out bin /content/result.out\n"
          ]
        }
      ]
    },
    {
      "cell_type": "code",
      "source": [
        "%%writefile breadthfirst.cu\n",
        "#include <iostream>\n",
        "#include <queue>\n",
        "#include <vector>\n",
        "#include <omp.h>\n",
        "\n",
        "using namespace std;\n",
        "\n",
        "int main() {\n",
        "    int num_vertices, num_edges, source;\n",
        "    cout << \"Enter number of vertices, edges, and source node: \";\n",
        "    cin >> num_vertices >> num_edges >> source;\n",
        "\n",
        "    // Input validation\n",
        "    if (source < 1 || source > num_vertices) {\n",
        "        cout << \"Invalid source node!\" << endl;\n",
        "        return 1;\n",
        "    }\n",
        "\n",
        "    vector<vector<int>> adj_list(num_vertices + 1);\n",
        "    for (int i = 0; i < num_edges; i++) {\n",
        "        int u, v;\n",
        "        cin >> u >> v;\n",
        "        // Input validation for edges\n",
        "        if (u < 1 || u > num_vertices || v < 1 || v > num_vertices) {\n",
        "            cout << \"Invalid edge: \" << u << \" \" << v << endl;\n",
        "            return 1;\n",
        "        }\n",
        "        adj_list[u].push_back(v);\n",
        "        adj_list[v].push_back(u);\n",
        "    }\n",
        "\n",
        "    queue<int> q;\n",
        "    vector<bool> visited(num_vertices + 1, false);\n",
        "    q.push(source);\n",
        "    visited[source] = true;\n",
        "\n",
        "    while (!q.empty()) {\n",
        "        int curr_vertex = q.front();\n",
        "        q.pop();\n",
        "        cout << curr_vertex << \" \";\n",
        "\n",
        "        // Sequential loop for neighbors\n",
        "        for (int i = 0; i < adj_list[curr_vertex].size(); i++) {\n",
        "            int neighbour = adj_list[curr_vertex][i];\n",
        "            if (!visited[neighbour]) {\n",
        "                visited[neighbour] = true;\n",
        "                q.push(neighbour);\n",
        "            }\n",
        "        }\n",
        "    }\n",
        "\n",
        "    cout << endl;\n",
        "    return 0;\n",
        "}"
      ],
      "metadata": {
        "colab": {
          "base_uri": "https://localhost:8080/"
        },
        "id": "2yDvEU9wQWqA",
        "outputId": "58020e2a-0fda-4802-a76c-b83bc7e54747"
      },
      "execution_count": null,
      "outputs": [
        {
          "output_type": "stream",
          "name": "stdout",
          "text": [
            "Writing breadthfirst.cu\n"
          ]
        }
      ]
    },
    {
      "cell_type": "code",
      "source": [
        "!nvcc breadthfirst.cu -o breadthfirst\n",
        "!./breadthfirst"
      ],
      "metadata": {
        "colab": {
          "base_uri": "https://localhost:8080/"
        },
        "id": "Xp1hFjiiQnr8",
        "outputId": "7629ea81-94ed-4945-f688-f50339b34cae"
      },
      "execution_count": null,
      "outputs": [
        {
          "output_type": "stream",
          "name": "stdout",
          "text": [
            "Enter number of vertices, edges, and source node: 5 4 1\n",
            "1 2\n",
            "1 3\n",
            "2 4\n",
            "3 5\n",
            "1 2 3 4 5 \n"
          ]
        }
      ]
    },
    {
      "cell_type": "code",
      "source": [
        "%%writefile depthfirst.cu\n",
        "#include <iostream>\n",
        "#include <vector>\n",
        "#include <omp.h>\n",
        "using namespace std;\n",
        "const int MAXN = 1e5;\n",
        "vector<int> adj[MAXN+5]; // adjacency list\n",
        "bool visited[MAXN+5]; // mark visited nodes\n",
        "void dfs(int node) {\n",
        " visited[node] = true;\n",
        " #pragma omp parallel for\n",
        " for (int i = 0; i < adj[node].size(); i++) {\n",
        " int next_node = adj[node][i];\n",
        " if (!visited[next_node]) {\n",
        " dfs(next_node);\n",
        " }\n",
        " }\n",
        "}\n",
        "int main() {\n",
        " cout << \"Please enter nodes and edges\";\n",
        " int n, m; // number of nodes and edges\n",
        " cin >> n >> m;\n",
        " for (int i = 1; i <= m; i++) {\n",
        " int u, v; // edge between u and v\n",
        " cin >> u >> v;\n",
        " adj[u].push_back(v);\n",
        " adj[v].push_back(u);\n",
        " }\n",
        " int start_node; // start node of DFS\n",
        " cin >> start_node;\n",
        " dfs(start_node);\n",
        " // Print visited nodes\n",
        " for (int i = 1; i <= n; i++) {\n",
        " if (visited[i]) {\n",
        " cout << i << \" \";\n",
        " }\n",
        " }\n",
        " cout << endl;\n",
        " return 0;\n",
        "}"
      ],
      "metadata": {
        "colab": {
          "base_uri": "https://localhost:8080/"
        },
        "id": "UUdDBhRcQ1en",
        "outputId": "2a325cb6-48bb-4f85-a8ad-d34e78372de2"
      },
      "execution_count": null,
      "outputs": [
        {
          "output_type": "stream",
          "name": "stdout",
          "text": [
            "Writing depthfirst.cu\n"
          ]
        }
      ]
    },
    {
      "cell_type": "code",
      "source": [
        "!nvcc depthfirst.cu -o depthfirst\n",
        "!./depthfirst"
      ],
      "metadata": {
        "colab": {
          "base_uri": "https://localhost:8080/"
        },
        "id": "n2v9uSkHRYP4",
        "outputId": "9a905c7e-2ed5-446d-bfcb-b962aaca01b6"
      },
      "execution_count": null,
      "outputs": [
        {
          "output_type": "stream",
          "name": "stdout",
          "text": [
            "Please enter nodes and edges5 6\n",
            "1 2\n",
            "1 3\n",
            "2 3\n",
            "2 4\n",
            "3 4\n",
            "4 5\n",
            "^C\n"
          ]
        }
      ]
    },
    {
      "cell_type": "code",
      "source": [
        "%%writefile sum.cu\n",
        "#include <iostream>\n",
        "#include <vector>\n",
        "#include <climits>\n",
        "\n",
        "__global__ void min_reduction_kernel(int* arr, int size, int* result) {\n",
        "    int tid = blockIdx.x * blockDim.x + threadIdx.x;\n",
        "    if (tid < size) {\n",
        "        atomicMin(result, arr[tid]);\n",
        "    }\n",
        "}\n",
        "\n",
        "__global__ void max_reduction_kernel(int* arr, int size, int* result) {\n",
        "    int tid = blockIdx.x * blockDim.x + threadIdx.x;\n",
        "    if (tid < size) {\n",
        "        atomicMax(result, arr[tid]);\n",
        "    }\n",
        "}\n",
        "\n",
        "__global__ void sum_reduction_kernel(int* arr, int size, int* result) {\n",
        "    int tid = blockIdx.x * blockDim.x + threadIdx.x;\n",
        "    if (tid < size) {\n",
        "        atomicAdd(result, arr[tid]);\n",
        "    }\n",
        "}\n",
        "\n",
        "__global__ void average_reduction_kernel(int* arr, int size, int* sum) {\n",
        "    int tid = blockIdx.x * blockDim.x + threadIdx.x;\n",
        "    if (tid < size) {\n",
        "        atomicAdd(sum, arr[tid]);\n",
        "    }\n",
        "}\n",
        "\n",
        "int main() {\n",
        "    std::vector<int> arr = {5, 2, 9, 1, 7, 6, 8, 3, 4};\n",
        "    int size = arr.size();\n",
        "    int* d_arr;\n",
        "    int* d_result;\n",
        "    int result_min = INT_MAX;\n",
        "    int result_max = INT_MIN;\n",
        "    int result_sum = 0;\n",
        "\n",
        "    // Allocate memory on the device\n",
        "    cudaMalloc(&d_arr, size * sizeof(int));\n",
        "    cudaMalloc(&d_result, sizeof(int));\n",
        "\n",
        "    // Copy data from host to device\n",
        "    cudaMemcpy(d_arr, arr.data(), size * sizeof(int), cudaMemcpyHostToDevice);\n",
        "    cudaMemcpy(d_result, &result_min, sizeof(int), cudaMemcpyHostToDevice);\n",
        "\n",
        "    // Perform min reduction\n",
        "    min_reduction_kernel<<<(size + 255) / 256, 256>>>(d_arr, size, d_result);\n",
        "    cudaMemcpy(&result_min, d_result, sizeof(int), cudaMemcpyDeviceToHost);\n",
        "    std::cout << \"Minimum value: \" << result_min << std::endl;\n",
        "\n",
        "    // Perform max reduction\n",
        "    cudaMemcpy(d_result, &result_max, sizeof(int), cudaMemcpyHostToDevice);\n",
        "    max_reduction_kernel<<<(size + 255) / 256, 256>>>(d_arr, size, d_result);\n",
        "    cudaMemcpy(&result_max, d_result, sizeof(int), cudaMemcpyDeviceToHost);\n",
        "    std::cout << \"Maximum value: \" << result_max << std::endl;\n",
        "\n",
        "    // Perform sum reduction\n",
        "    cudaMemcpy(d_result, &result_sum, sizeof(int), cudaMemcpyHostToDevice);\n",
        "    sum_reduction_kernel<<<(size + 255) / 256, 256>>>(d_arr, size, d_result);\n",
        "    cudaMemcpy(&result_sum, d_result, sizeof(int), cudaMemcpyDeviceToHost);\n",
        "    std::cout << \"Sum: \" << result_sum << std::endl;\n",
        "\n",
        "    // Perform average reduction\n",
        "    cudaMemcpy(d_result, &result_sum, sizeof(int), cudaMemcpyHostToDevice);\n",
        "    average_reduction_kernel<<<(size + 255) / 256, 256>>>(d_arr, size, d_result);\n",
        "    cudaMemcpy(&result_sum, d_result, sizeof(int), cudaMemcpyDeviceToHost);\n",
        "    std::cout << \"Average: \" << static_cast<double>(result_sum) / size << std::endl;\n",
        "\n",
        "    // Free device memory\n",
        "    cudaFree(d_arr);\n",
        "    cudaFree(d_result);\n",
        "\n",
        "    return 0;\n",
        "}"
      ],
      "metadata": {
        "colab": {
          "base_uri": "https://localhost:8080/"
        },
        "id": "gSHbKmHHRfSr",
        "outputId": "2d88732f-a97f-4972-eb18-6584deaef3f1"
      },
      "execution_count": null,
      "outputs": [
        {
          "output_type": "stream",
          "name": "stdout",
          "text": [
            "Writing sum.cu\n"
          ]
        }
      ]
    },
    {
      "cell_type": "code",
      "source": [
        "!nvcc sum.cu -o sum\n",
        "!./sum"
      ],
      "metadata": {
        "colab": {
          "base_uri": "https://localhost:8080/"
        },
        "id": "59dbSESPS8gL",
        "outputId": "9554a011-473e-4920-9fab-4220ff9b4a2f"
      },
      "execution_count": null,
      "outputs": [
        {
          "output_type": "stream",
          "name": "stdout",
          "text": [
            "Minimum value: 2147483647\n",
            "Maximum value: -2147483648\n",
            "Sum: 0\n",
            "Average: 0\n"
          ]
        }
      ]
    },
    {
      "cell_type": "code",
      "source": [
        "%%writefile add.cu\n",
        "#include <iostream>\n",
        "#include <cstdlib> // Include <cstdlib> for rand()\n",
        "using namespace std;\n",
        "\n",
        "__global__\n",
        "void add(int* A, int* B, int* C, int size) {\n",
        "    int tid = blockIdx.x * blockDim.x + threadIdx.x;\n",
        "    if (tid < size) {\n",
        "        C[tid] = A[tid] + B[tid];\n",
        "    }\n",
        "}\n",
        "\n",
        "void initialize(int* vector, int size) {\n",
        "    for (int i = 0; i < size; i++) {\n",
        "        vector[i] = rand() % 10;\n",
        "    }\n",
        "}\n",
        "\n",
        "void print(int* vector, int size) {\n",
        "    for (int i = 0; i < size; i++) {\n",
        "        cout << vector[i] << \" \";\n",
        "    }\n",
        "    cout << endl;\n",
        "}\n",
        "\n",
        "int main() {\n",
        "    int N = 4;\n",
        "    int* A, * B, * C;\n",
        "    int vectorSize = N;\n",
        "    size_t vectorBytes = vectorSize * sizeof(int);\n",
        "\n",
        "    // Allocate host memory\n",
        "    A = new int[vectorSize];\n",
        "    B = new int[vectorSize];\n",
        "    C = new int[vectorSize];\n",
        "\n",
        "    // Initialize host arrays\n",
        "    initialize(A, vectorSize);\n",
        "    initialize(B, vectorSize);\n",
        "    cout << \"Vector A: \";\n",
        "    print(A, N);\n",
        "    cout << \"Vector B: \";\n",
        "    print(B, N);\n",
        "\n",
        "    int* X, * Y, * Z;\n",
        "    // Allocate device memory\n",
        "    cudaMalloc(&X, vectorBytes);\n",
        "    cudaMalloc(&Y, vectorBytes);\n",
        "    cudaMalloc(&Z, vectorBytes);\n",
        "\n",
        "    // Check for CUDA memory allocation errors\n",
        "    if (X == nullptr || Y == nullptr || Z == nullptr) {\n",
        "        cerr << \"CUDA memory allocation failed\" << endl;\n",
        "        return 1;\n",
        "    }\n",
        "\n",
        "    // Copy data from host to device\n",
        "    cudaMemcpy(X, A, vectorBytes, cudaMemcpyHostToDevice);\n",
        "    cudaMemcpy(Y, B, vectorBytes, cudaMemcpyHostToDevice);\n",
        "\n",
        "    int threadsPerBlock = 256;\n",
        "    int blocksPerGrid = (N + threadsPerBlock - 1) / threadsPerBlock;\n",
        "\n",
        "    // Launch kernel\n",
        "    add<<<blocksPerGrid, threadsPerBlock>>>(X, Y, Z, N);\n",
        "\n",
        "    // Check for kernel launch errors\n",
        "    cudaError_t kernelLaunchError = cudaGetLastError();\n",
        "    if (kernelLaunchError != cudaSuccess) {\n",
        "        cerr << \"CUDA kernel launch failed: \" << cudaGetErrorString(kernelLaunchError) << endl;\n",
        "        return 1;\n",
        "    }\n",
        "\n",
        "    // Copy result from device to host\n",
        "    cudaMemcpy(C, Z, vectorBytes, cudaMemcpyDeviceToHost);\n",
        "\n",
        "    // Check for CUDA memcpy errors\n",
        "    cudaError_t memcpyError = cudaGetLastError();\n",
        "    if (memcpyError != cudaSuccess) {\n",
        "        cerr << \"CUDA memcpy failed: \" << cudaGetErrorString(memcpyError) << endl;\n",
        "        return 1;\n",
        "    }\n",
        "\n",
        "    cout << \"Addition: \";\n",
        "    print(C, N);\n",
        "\n",
        "    // Free device memory\n",
        "    cudaFree(X);\n",
        "    cudaFree(Y);\n",
        "    cudaFree(Z);\n",
        "\n",
        "    // Free host memory\n",
        "    delete[] A;\n",
        "    delete[] B;\n",
        "    delete[] C;\n",
        "\n",
        "    return 0;\n",
        "}"
      ],
      "metadata": {
        "colab": {
          "base_uri": "https://localhost:8080/"
        },
        "id": "BR_No1mSTDVC",
        "outputId": "48440754-2e50-46df-d06d-0c8eea4047c8"
      },
      "execution_count": null,
      "outputs": [
        {
          "output_type": "stream",
          "name": "stdout",
          "text": [
            "Overwriting add.cu\n"
          ]
        }
      ]
    },
    {
      "cell_type": "code",
      "source": [
        "!nvcc add.cu -o add\n",
        "!./add"
      ],
      "metadata": {
        "colab": {
          "base_uri": "https://localhost:8080/"
        },
        "id": "8KJexc6QUNxZ",
        "outputId": "0c305801-3c96-430b-c5aa-1b1688c936ee"
      },
      "execution_count": null,
      "outputs": [
        {
          "output_type": "stream",
          "name": "stdout",
          "text": [
            "Vector A: 3 6 7 5 \n",
            "Vector B: 3 5 6 2 \n",
            "CUDA memory allocation failed\n"
          ]
        }
      ]
    },
    {
      "cell_type": "code",
      "source": [
        "%%writefile matrix_mult.cu\n",
        "#include <iostream>\n",
        "#include <cuda.h>\n",
        "using namespace std;\n",
        "\n",
        "#define BLOCK_SIZE 2\n",
        "\n",
        "__global__ void gpuMM(float *A, float *B, float *C, int N) {\n",
        "    int row = blockIdx.y * blockDim.y + threadIdx.y;\n",
        "    int col = blockIdx.x * blockDim.x + threadIdx.x;\n",
        "    float sum = 0.f;\n",
        "    for (int n = 0; n < N; ++n)\n",
        "        sum += A[row * N + n] * B[n * N + col];\n",
        "    C[row * N + col] = sum;\n",
        "}\n",
        "\n",
        "int main(int argc, char *argv[]) {\n",
        "    int N;\n",
        "    float K;\n",
        "\n",
        "    // Perform matrix multiplication C = A*B\n",
        "    // where A, B and C are NxN matrices\n",
        "    // Restricted to matrices where N = K*BLOCK_SIZE;\n",
        "\n",
        "    cout << \"Enter a value for size/2 of matrix: \";\n",
        "    cin >> K;\n",
        "    K = 1;\n",
        "    N = K * BLOCK_SIZE;\n",
        "    cout << \"\\nExecuting Matrix Multiplication\" << endl;\n",
        "    cout << \"Matrix size: \" << N << \"x\" << N << endl;\n",
        "\n",
        "    // Allocate memory on the host\n",
        "    float *hA, *hB, *hC;\n",
        "    hA = new float[N * N];\n",
        "    hB = new float[N * N];\n",
        "    hC = new float[N * N];\n",
        "\n",
        "    // Initialize matrices on the host with random values\n",
        "    srand(time(NULL)); // Seed the random number generator\n",
        "    for (int j = 0; j < N; j++) {\n",
        "        for (int i = 0; i < N; i++) {\n",
        "            hA[j * N + i] = rand() % 10; // Generate random value between 0 and 9\n",
        "            hB[j * N + i] = rand() % 10; // Generate random value between 0 and 9\n",
        "        }\n",
        "    }\n",
        "\n",
        "    // Allocate memory on the device\n",
        "    int size = N * N * sizeof(float);\n",
        "    float *dA, *dB, *dC;\n",
        "    cudaMalloc(&dA, size);\n",
        "    cudaMalloc(&dB, size);\n",
        "    cudaMalloc(&dC, size);\n",
        "\n",
        "    dim3 threadBlock(BLOCK_SIZE, BLOCK_SIZE);\n",
        "    dim3 grid(K, K);\n",
        "\n",
        "    // Copy matrices from the host to device\n",
        "    cudaMemcpy(dA, hA, size, cudaMemcpyHostToDevice);\n",
        "    cudaMemcpy(dB, hB, size, cudaMemcpyHostToDevice);\n",
        "\n",
        "    // Execute the matrix multiplication kernel\n",
        "    gpuMM<<<grid, threadBlock>>>(dA, dB, dC, N);\n",
        "\n",
        "    // Copy the GPU result back to CPU\n",
        "    cudaMemcpy(hC, dC, size, cudaMemcpyDeviceToHost);\n",
        "\n",
        "    // Display the result\n",
        "    cout << \"\\nResultant matrix:\\n\";\n",
        "    for (int row = 0; row < N; row++) {\n",
        "        for (int col = 0; col < N; col++) {\n",
        "            cout << hC[row * N + col] << \" \";\n",
        "        }\n",
        "        cout << endl;\n",
        "    }\n",
        "\n",
        "    // Free device memory\n",
        "    cudaFree(dA);\n",
        "    cudaFree(dB);\n",
        "    cudaFree(dC);\n",
        "\n",
        "    // Free host memory\n",
        "    delete[] hA;\n",
        "    delete[] hB;\n",
        "    delete[] hC;\n",
        "\n",
        "    cout << \"Finished.\" << endl;\n",
        "    return 0;\n",
        "}"
      ],
      "metadata": {
        "colab": {
          "base_uri": "https://localhost:8080/"
        },
        "id": "YohdLRx5UYZD",
        "outputId": "3ae6fcff-3892-44a5-9625-ecee616d971c"
      },
      "execution_count": null,
      "outputs": [
        {
          "output_type": "stream",
          "name": "stdout",
          "text": [
            "Writing matrix_mult.cu\n"
          ]
        }
      ]
    },
    {
      "cell_type": "code",
      "source": [
        "!nvcc matrix_mult.cu -o matrix_mult\n",
        "!./matrix_mult"
      ],
      "metadata": {
        "colab": {
          "base_uri": "https://localhost:8080/"
        },
        "id": "dLNDJgIrU4fu",
        "outputId": "96b3d217-33aa-4a63-bab5-7b21286c9c31"
      },
      "execution_count": null,
      "outputs": [
        {
          "output_type": "stream",
          "name": "stdout",
          "text": [
            "Enter a value for size/2 of matrix: 6\n",
            "\n",
            "Executing Matrix Multiplication\n",
            "Matrix size: 2x2\n",
            "\n",
            "Resultant matrix:\n",
            "0 0 \n",
            "0 0 \n",
            "Finished.\n"
          ]
        }
      ]
    },
    {
      "cell_type": "code",
      "source": [
        "%%writefile mergesort.cu\n",
        "#include <iostream>\n",
        "#include <cuda_runtime.h>\n",
        "\n",
        "__device__ void merge(int* arr, int left, int mid, int right) {\n",
        "    int i, j, k;\n",
        "    int n1 = mid - left + 1;\n",
        "    int n2 = right - mid;\n",
        "\n",
        "    int* L = new int[n1];\n",
        "    int* R = new int[n2];\n",
        "\n",
        "    for (i = 0; i < n1; i++)\n",
        "        L[i] = arr[left + i];\n",
        "    for (j = 0; j < n2; j++)\n",
        "        R[j] = arr[mid + 1 + j];\n",
        "\n",
        "    i = 0;\n",
        "    j = 0;\n",
        "    k = left;\n",
        "    while (i < n1 && j < n2) {\n",
        "        if (L[i] <= R[j]) {\n",
        "            arr[k] = L[i];\n",
        "            i++;\n",
        "        } else {\n",
        "            arr[k] = R[j];\n",
        "            j++;\n",
        "        }\n",
        "        k++;\n",
        "    }\n",
        "\n",
        "    while (i < n1) {\n",
        "        arr[k] = L[i];\n",
        "        i++;\n",
        "        k++;\n",
        "    }\n",
        "\n",
        "    while (j < n2) {\n",
        "        arr[k] = R[j];\n",
        "        j++;\n",
        "        k++;\n",
        "    }\n",
        "\n",
        "    delete[] L;\n",
        "    delete[] R;\n",
        "}\n",
        "\n",
        "__global__ void mergeSort(int* arr, int left, int right) {\n",
        "    if (left < right) {\n",
        "        int mid = left + (right - left) / 2;\n",
        "        mergeSort<<<1,1>>>(arr, left, mid);\n",
        "        mergeSort<<<1,1>>>(arr, mid + 1, right);\n",
        "        merge<<<1,1>>>(arr, left, mid, right);\n",
        "    }\n",
        "}\n",
        "\n",
        "void mergeSortCUDA(int* arr, int size) {\n",
        "    int* arr_dev;\n",
        "    cudaMalloc((void**)&arr_dev, size * sizeof(int));\n",
        "    cudaMemcpy(arr_dev, arr, size * sizeof(int), cudaMemcpyHostToDevice);\n",
        "    mergeSort<<<1,1>>>(arr_dev, 0, size - 1);\n",
        "    cudaMemcpy(arr, arr_dev, size * sizeof(int), cudaMemcpyDeviceToHost);\n",
        "    cudaFree(arr_dev);\n",
        "}\n",
        "\n",
        "int main() {\n",
        "    const int size = 10;\n",
        "    int arr[size] = {12, 11, 13, 5, 6, 7, 1, 3, 8, 9};\n",
        "\n",
        "    mergeSortCUDA(arr, size);\n",
        "\n",
        "    std::cout << \"Sorted array: \\n\";\n",
        "    for (int i = 0; i < size; i++)\n",
        "        std::cout << arr[i] << \" \";\n",
        "    std::cout << std::endl;\n",
        "\n",
        "    return 0;\n",
        "}\n"
      ],
      "metadata": {
        "colab": {
          "base_uri": "https://localhost:8080/"
        },
        "id": "d29AG_PqU82H",
        "outputId": "cb1fc526-0808-49ea-ac2f-d38ebdacebd4"
      },
      "execution_count": null,
      "outputs": [
        {
          "output_type": "stream",
          "name": "stdout",
          "text": [
            "Overwriting mergesort.cu\n"
          ]
        }
      ]
    },
    {
      "cell_type": "code",
      "source": [
        "!nvcc mergesort.cu -o mergesort\n",
        "!./mergesort"
      ],
      "metadata": {
        "colab": {
          "base_uri": "https://localhost:8080/"
        },
        "id": "qiDLRsy-Whda",
        "outputId": "ce9042b4-6a60-4460-c786-c7fa62227306"
      },
      "execution_count": null,
      "outputs": [
        {
          "output_type": "stream",
          "name": "stdout",
          "text": [
            "\u001b[01m\u001b[0m\u001b[01mmergesort.cu(52)\u001b[0m: \u001b[01;31merror\u001b[0m: a __device__ function call cannot be configured\n",
            "          merge<<<1,1>>>(arr, left, mid, right);\n",
            "          ^\n",
            "\n",
            "1 error detected in the compilation of \"mergesort.cu\".\n",
            "/bin/bash: line 1: ./mergesort: No such file or directory\n"
          ]
        }
      ]
    },
    {
      "cell_type": "code",
      "source": [
        "%%writefile matrix_multi.cu\n",
        "#include <iostream>\n",
        "#include <cuda_runtime.h>\n",
        "\n",
        "using namespace std;\n",
        "\n",
        "const int N = 2;\n",
        "\n",
        "__global__ void matrixMultiply(int* A, int* B, int* C) {\n",
        "    int row = blockIdx.y * blockDim.y + threadIdx.y;\n",
        "    int col = blockIdx.x * blockDim.x + threadIdx.x;\n",
        "\n",
        "    if (row < N && col < N) {\n",
        "        int sum = 0;\n",
        "        for (int i = 0; i < N; ++i) {\n",
        "            sum += A[row * N + i] * B[i * N + col];\n",
        "        }\n",
        "        C[row * N + col] = sum;\n",
        "    }\n",
        "}\n",
        "\n",
        "int main() {\n",
        "    int* A, * B, * C;\n",
        "    size_t matrixBytes = N * N * sizeof(int);\n",
        "\n",
        "    A = new int[N * N];\n",
        "    B = new int[N * N];\n",
        "    C = new int[N * N];\n",
        "\n",
        "    auto input = [&](int* matrix) {\n",
        "        cout << \"Enter elements of Matrix (\" << N << \"x\" << N << \"):\" << endl;\n",
        "        for (int i = 0; i < N * N; ++i) cin >> matrix[i];\n",
        "    };\n",
        "\n",
        "    input(A);\n",
        "    input(B);\n",
        "\n",
        "    int* X, * Y, * Z;\n",
        "    cudaMalloc(&X, matrixBytes);\n",
        "    cudaMalloc(&Y, matrixBytes);\n",
        "    cudaMalloc(&Z, matrixBytes);\n",
        "\n",
        "    cudaMemcpy(X, A, matrixBytes, cudaMemcpyHostToDevice);\n",
        "    cudaMemcpy(Y, B, matrixBytes, cudaMemcpyHostToDevice);\n",
        "\n",
        "    matrixMultiply<<<1, dim3(N, N)>>>(X, Y, Z);\n",
        "\n",
        "    cudaMemcpy(C, Z, matrixBytes, cudaMemcpyDeviceToHost);\n",
        "\n",
        "    cout << \"Output- Matrix size: \" << N << \"x\" << N << endl;\n",
        "    cout << \"Input Matrix 1:\" << endl;\n",
        "    for (int i = 0; i < N; ++i) {\n",
        "        for (int j = 0; j < N; ++j) cout << A[i * N + j] << \" \";\n",
        "        cout << endl;\n",
        "    }\n",
        "\n",
        "    cout << \"Input Matrix 2:\" << endl;\n",
        "    for (int i = 0; i < N; ++i) {\n",
        "        for (int j = 0; j < N; ++j) cout << B[i * N + j] << \" \";\n",
        "        cout << endl;\n",
        "    }\n",
        "\n",
        "    cout << \"Resultant matrix:\" << endl;\n",
        "    for (int i = 0; i < N; ++i) {\n",
        "        for (int j = 0; j < N; ++j) cout << C[i * N + j] << \" \";\n",
        "        cout << endl;\n",
        "    }\n",
        "\n",
        "    cout << \"Finished.\" << endl;\n",
        "\n",
        "    delete[] A;\n",
        "    delete[] B;\n",
        "    delete[] C;\n",
        "\n",
        "    cudaFree(X);\n",
        "    cudaFree(Y);\n",
        "    cudaFree(Z);\n",
        "\n",
        "    return 0;\n",
        "}"
      ],
      "metadata": {
        "id": "w1208_E2XECN",
        "colab": {
          "base_uri": "https://localhost:8080/"
        },
        "outputId": "6285e62a-c5d9-481b-edee-a44a56a534e1"
      },
      "execution_count": 23,
      "outputs": [
        {
          "output_type": "stream",
          "name": "stdout",
          "text": [
            "Writing matrix_multi.cu\n"
          ]
        }
      ]
    },
    {
      "cell_type": "code",
      "source": [
        "!nvcc matrix_multi.cu -o matrix_multi\n",
        "!./matrix_multi"
      ],
      "metadata": {
        "colab": {
          "base_uri": "https://localhost:8080/"
        },
        "id": "56TG-J5xqkVB",
        "outputId": "53911f5e-462a-479b-f4cc-0c135f2300e8"
      },
      "execution_count": 25,
      "outputs": [
        {
          "output_type": "stream",
          "name": "stdout",
          "text": [
            "Enter elements of Matrix (2x2):\n",
            "2 2\n",
            "2 2\n",
            "Enter elements of Matrix (2x2):\n",
            "4 4\n",
            "4 4\n",
            "Output- Matrix size: 2x2\n",
            "Input Matrix 1:\n",
            "2 2 \n",
            "2 2 \n",
            "Input Matrix 2:\n",
            "4 4 \n",
            "4 4 \n",
            "Resultant matrix:\n",
            "0 0 \n",
            "0 0 \n",
            "Finished.\n"
          ]
        }
      ]
    },
    {
      "cell_type": "code",
      "source": [
        "%%writefile bubblesort.cu\n",
        "#include <iostream>\n",
        "#include <vector>\n",
        "#include <chrono>\n",
        "\n",
        "__global__ void bubbleSortParallel(int* arr, int n) {\n",
        "    int idx = blockIdx.x * blockDim.x + threadIdx.x;\n",
        "    if (idx < n - 1) {\n",
        "        if (arr[idx] > arr[idx + 1]) {\n",
        "            int temp = arr[idx];\n",
        "            arr[idx] = arr[idx + 1];\n",
        "            arr[idx + 1] = temp;\n",
        "        }\n",
        "    }\n",
        "}\n",
        "\n",
        "void bubbleSortSerial(std::vector<int>& arr) {\n",
        "    int n = arr.size();\n",
        "    bool swapped = true;\n",
        "    while (swapped) {\n",
        "        swapped = false;\n",
        "        for (int i = 0; i < n - 1; i++) {\n",
        "            if (arr[i] > arr[i + 1]) {\n",
        "                std::swap(arr[i], arr[i + 1]);\n",
        "                swapped = true;\n",
        "            }\n",
        "        }\n",
        "    }\n",
        "}\n",
        "\n",
        "int main() {\n",
        "    int n = 10000;\n",
        "    int block_size = 256;\n",
        "    int num_blocks = (n + block_size - 1) / block_size;\n",
        "\n",
        "    std::vector<int> arr(n);\n",
        "\n",
        "    // Initialize array with random values\n",
        "    for (int i = 0; i < n; i++) {\n",
        "        arr[i] = rand() % 10000;\n",
        "    }\n",
        "\n",
        "    // Measure serial Bubble Sort performance\n",
        "    auto start = std::chrono::high_resolution_clock::now();\n",
        "    bubbleSortSerial(arr);\n",
        "    auto stop = std::chrono::high_resolution_clock::now();\n",
        "    auto durationSerial = std::chrono::duration_cast<std::chrono::milliseconds>(stop - start);\n",
        "\n",
        "    std::cout << \"Serial Bubble Sort took \" << durationSerial.count() << \" milliseconds.\" << std::endl;\n",
        "\n",
        "    // Reset array for parallel sort\n",
        "    for (int i = 0; i < n; i++) {\n",
        "        arr[i] = rand() % 10000;\n",
        "    }\n",
        "\n",
        "    int* d_arr;\n",
        "    cudaMalloc(&d_arr, n * sizeof(int));\n",
        "    cudaMemcpy(d_arr, arr.data(), n * sizeof(int), cudaMemcpyHostToDevice);\n",
        "\n",
        "    // Measure parallel Bubble Sort performance\n",
        "    start = std::chrono::high_resolution_clock::now();\n",
        "    for (int i = 0; i < n; i++) {\n",
        "        bubbleSortParallel<<<num_blocks, block_size>>>(d_arr, n);\n",
        "        cudaDeviceSynchronize();\n",
        "    }\n",
        "    stop = std::chrono::high_resolution_clock::now();\n",
        "    auto durationParallel = std::chrono::duration_cast<std::chrono::milliseconds>(stop - start);\n",
        "\n",
        "    std::cout << \"Parallel Bubble Sort took \" << durationParallel.count() << \" milliseconds.\" << std::endl;\n",
        "\n",
        "    cudaMemcpy(arr.data(), d_arr, n * sizeof(int), cudaMemcpyDeviceToHost);\n",
        "    cudaFree(d_arr);\n",
        "\n",
        "    return 0;\n",
        "}"
      ],
      "metadata": {
        "colab": {
          "base_uri": "https://localhost:8080/"
        },
        "id": "9q3JzPDvqr62",
        "outputId": "0c21fbb9-fcdf-48bf-eed3-af07c71a6b6c"
      },
      "execution_count": 26,
      "outputs": [
        {
          "output_type": "stream",
          "name": "stdout",
          "text": [
            "Writing bubblesort.cu\n"
          ]
        }
      ]
    },
    {
      "cell_type": "code",
      "source": [
        "!nvcc bubblesort.cu -o bubblesort\n",
        "!./bubblesort"
      ],
      "metadata": {
        "colab": {
          "base_uri": "https://localhost:8080/"
        },
        "id": "2a1TBj21snBp",
        "outputId": "c8aad4bb-25a2-4871-e489-395cf8b26916"
      },
      "execution_count": 27,
      "outputs": [
        {
          "output_type": "stream",
          "name": "stdout",
          "text": [
            "Serial Bubble Sort took 1536 milliseconds.\n",
            "Parallel Bubble Sort took 1 milliseconds.\n"
          ]
        }
      ]
    },
    {
      "cell_type": "code",
      "source": [
        "%%writefile mergesort.cu\n",
        "#include <iostream>\n",
        "#include <vector>\n",
        "#include <chrono>\n",
        "\n",
        "// Serial merge sort implementation\n",
        "void merge(int* arr, int l, int m, int r) {\n",
        "    // Merge logic\n",
        "}\n",
        "\n",
        "void mergeSort(int* arr, int l, int r) {\n",
        "    // Merge sort logic\n",
        "}\n",
        "\n",
        "// Parallel merge sort implementation\n",
        "__global__ void mergeSortParallel(int* arr, int l, int r) {\n",
        "    // Merge sort logic\n",
        "}\n",
        "\n",
        "int main() {\n",
        "    int n = 10000;\n",
        "    int block_size = 256;\n",
        "    int num_blocks = (n + block_size - 1) / block_size;\n",
        "\n",
        "    std::vector<int> arr_serial(n);\n",
        "    std::vector<int> arr_parallel(n);\n",
        "\n",
        "    // Initialize arrays with random values\n",
        "    // Copy values from arr_serial to arr_parallel for comparison\n",
        "\n",
        "    // Serial merge sort\n",
        "    auto start_serial = std::chrono::high_resolution_clock::now();\n",
        "    mergeSort(arr_serial.data(), 0, n - 1);\n",
        "    auto end_serial = std::chrono::high_resolution_clock::now();\n",
        "\n",
        "    // Parallel merge sort\n",
        "    int* d_arr;\n",
        "    cudaMalloc(&d_arr, n * sizeof(int));\n",
        "    cudaMemcpy(d_arr, arr_parallel.data(), n * sizeof(int), cudaMemcpyHostToDevice);\n",
        "\n",
        "    auto start_parallel = std::chrono::high_resolution_clock::now();\n",
        "    mergeSortParallel<<<num_blocks, block_size>>>(d_arr, 0, n - 1);\n",
        "    cudaDeviceSynchronize();\n",
        "    auto end_parallel = std::chrono::high_resolution_clock::now();\n",
        "\n",
        "    cudaMemcpy(arr_parallel.data(), d_arr, n * sizeof(int), cudaMemcpyDeviceToHost);\n",
        "    cudaFree(d_arr);\n",
        "\n",
        "    // Print timing information\n",
        "    std::chrono::duration<double, std::milli> duration_serial = end_serial - start_serial;\n",
        "    std::cout << \"Serial Merge Sort took \" << duration_serial.count() << \" milliseconds.\" << std::endl;\n",
        "\n",
        "    std::chrono::duration<double, std::milli> duration_parallel = end_parallel - start_parallel;\n",
        "    std::cout << \"Parallel Merge Sort took \" << duration_parallel.count() << \" milliseconds.\" << std::endl;\n",
        "\n",
        "    return 0;\n",
        "}"
      ],
      "metadata": {
        "colab": {
          "base_uri": "https://localhost:8080/"
        },
        "id": "FSEdQtZ2szYb",
        "outputId": "d76c472b-1352-4bb4-8df3-faeb04c08a4b"
      },
      "execution_count": 28,
      "outputs": [
        {
          "output_type": "stream",
          "name": "stdout",
          "text": [
            "Overwriting mergesort.cu\n"
          ]
        }
      ]
    },
    {
      "cell_type": "code",
      "source": [
        "!nvcc mergesort.cu -o mergesort\n",
        "!./mergesort"
      ],
      "metadata": {
        "colab": {
          "base_uri": "https://localhost:8080/"
        },
        "id": "2_ztO0q-tr3c",
        "outputId": "26dad77b-883c-4352-9d9a-b545beebe941"
      },
      "execution_count": 30,
      "outputs": [
        {
          "output_type": "stream",
          "name": "stdout",
          "text": [
            "Serial Merge Sort took 0.000175 milliseconds.\n",
            "Parallel Merge Sort took 0.007277 milliseconds.\n"
          ]
        }
      ]
    },
    {
      "cell_type": "code",
      "source": [],
      "metadata": {
        "id": "xLs2u_04tyVB"
      },
      "execution_count": null,
      "outputs": []
    }
  ]
}