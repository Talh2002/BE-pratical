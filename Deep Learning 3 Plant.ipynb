{
 "cells": [
  {
   "cell_type": "code",
   "execution_count": 7,
   "id": "59ea9abb",
   "metadata": {},
   "outputs": [],
   "source": [
    "import tensorflow as tf\n",
    "import os\n",
    "import cv2\n",
    "import pickle\n",
    "from tqdm import tqdm\n",
    "import numpy as np\n",
    "from tensorflow.keras.models import Sequential\n",
    "from tensorflow.keras.layers import Conv2D, MaxPooling2D, Flatten, Dense, Dropout"
   ]
  },
  {
   "cell_type": "code",
   "execution_count": 8,
   "id": "0d610a6a",
   "metadata": {},
   "outputs": [],
   "source": [
    "def extract_images_from_folder(root_folder, target_size=(256, 256)):\n",
    "    image_data = []\n",
    "    labels = []\n",
    "    label_to_index = {}  # Dictionary to map label names to numerical indices\n",
    "    index = 0\n",
    "\n",
    "    for subdir, dirs, files in os.walk(root_folder):\n",
    "        for file in tqdm(files):\n",
    "            filepath = os.path.join(subdir, file)\n",
    "            img = cv2.imread(filepath)\n",
    "            img = cv2.resize(img, target_size)\n",
    "\n",
    "            label = os.path.basename(subdir)\n",
    "            if label not in label_to_index:\n",
    "                label_to_index[label] = index\n",
    "                index += 1\n",
    "\n",
    "            image_data.append(img)\n",
    "            labels.append(label_to_index[label])\n",
    "\n",
    "    image_data = np.array(image_data)\n",
    "    labels = np.array(labels)\n",
    "\n",
    "    return image_data, labels, label_to_index"
   ]
  },
  {
   "cell_type": "code",
   "execution_count": 9,
   "id": "4e306cfa",
   "metadata": {},
   "outputs": [
    {
     "name": "stderr",
     "output_type": "stream",
     "text": [
      "0it [00:00, ?it/s]\n",
      "100%|████████████████████████████████████████████████████████████████████████████████| 458/458 [00:36<00:00, 12.59it/s]\n",
      "100%|████████████████████████████████████████████████████████████████████████████████| 430/430 [00:33<00:00, 12.92it/s]\n",
      "100%|████████████████████████████████████████████████████████████████████████████████| 434/434 [00:35<00:00, 12.34it/s]\n"
     ]
    }
   ],
   "source": [
    "root_folder = \"D:\\miniprojects\\dl\\Train\\Train\"\n",
    "x_train,y_train,label_reverse_train = extract_images_from_folder(root_folder)"
   ]
  },
  {
   "cell_type": "code",
   "execution_count": 10,
   "id": "8b997ab5",
   "metadata": {},
   "outputs": [
    {
     "name": "stderr",
     "output_type": "stream",
     "text": [
      "0it [00:00, ?it/s]\n",
      "100%|██████████████████████████████████████████████████████████████████████████████████| 20/20 [00:01<00:00, 11.51it/s]\n",
      "100%|██████████████████████████████████████████████████████████████████████████████████| 20/20 [00:01<00:00, 12.13it/s]\n",
      "100%|██████████████████████████████████████████████████████████████████████████████████| 20/20 [00:01<00:00, 11.10it/s]\n"
     ]
    }
   ],
   "source": [
    "root_folder = \"D:\\miniprojects\\dl\\Validation\\Validation\"\n",
    "x_val,y_val,label_reverse_val = extract_images_from_folder(root_folder)"
   ]
  },
  {
   "cell_type": "code",
   "execution_count": 11,
   "id": "8377dc40",
   "metadata": {},
   "outputs": [
    {
     "name": "stderr",
     "output_type": "stream",
     "text": [
      "0it [00:00, ?it/s]\n",
      "100%|██████████████████████████████████████████████████████████████████████████████████| 50/50 [00:03<00:00, 12.78it/s]\n",
      "100%|██████████████████████████████████████████████████████████████████████████████████| 50/50 [00:03<00:00, 13.09it/s]\n",
      "100%|██████████████████████████████████████████████████████████████████████████████████| 50/50 [00:03<00:00, 13.64it/s]\n"
     ]
    }
   ],
   "source": [
    "root_folder = \"D:\\miniprojects\\dl\\Test\\Test\"\n",
    "x_test,y_test,label_reverse_test = extract_images_from_folder(root_folder)"
   ]
  },
  {
   "cell_type": "code",
   "execution_count": 12,
   "id": "a733ce18",
   "metadata": {},
   "outputs": [],
   "source": [
    "x_train = x_train / 255.0\n",
    "x_test = x_test / 255.0\n",
    "x_val = x_val / 255.0"
   ]
  },
  {
   "cell_type": "code",
   "execution_count": 13,
   "id": "8328b9db",
   "metadata": {},
   "outputs": [
    {
     "name": "stderr",
     "output_type": "stream",
     "text": [
      "D:\\anaconda\\lib\\site-packages\\keras\\src\\layers\\convolutional\\base_conv.py:99: UserWarning: Do not pass an `input_shape`/`input_dim` argument to a layer. When using Sequential models, prefer using an `Input(shape)` object as the first layer in the model instead.\n",
      "  super().__init__(\n"
     ]
    }
   ],
   "source": [
    "model = Sequential([\n",
    "    Conv2D(32, (3, 3), activation='relu', input_shape=(256, 256, 3)),\n",
    "    MaxPooling2D((2, 2)),\n",
    "    Conv2D(64, (3, 3), activation='relu'),\n",
    "    MaxPooling2D((2, 2)),\n",
    "    Conv2D(128, (3, 3), activation='relu'),\n",
    "    MaxPooling2D((2, 2)),\n",
    "    Flatten(),\n",
    "    Dense(128, activation='relu'),\n",
    "    Dropout(0.5),\n",
    "    Dense(len(label_reverse_train), activation='softmax')\n",
    "])"
   ]
  },
  {
   "cell_type": "code",
   "execution_count": 14,
   "id": "1edbec36",
   "metadata": {},
   "outputs": [],
   "source": [
    "model.compile(optimizer='adam',\n",
    "              loss='sparse_categorical_crossentropy',\n",
    "              metrics=['accuracy'])"
   ]
  },
  {
   "cell_type": "code",
   "execution_count": 15,
   "id": "90b602e0",
   "metadata": {},
   "outputs": [
    {
     "name": "stdout",
     "output_type": "stream",
     "text": [
      "Epoch 1/10\n",
      "\u001b[1m42/42\u001b[0m \u001b[32m━━━━━━━━━━━━━━━━━━━━\u001b[0m\u001b[37m\u001b[0m \u001b[1m36s\u001b[0m 783ms/step - accuracy: 0.4537 - loss: 1.2126 - val_accuracy: 0.5167 - val_loss: 0.9275\n",
      "Epoch 2/10\n",
      "\u001b[1m42/42\u001b[0m \u001b[32m━━━━━━━━━━━━━━━━━━━━\u001b[0m\u001b[37m\u001b[0m \u001b[1m32s\u001b[0m 761ms/step - accuracy: 0.6792 - loss: 0.6755 - val_accuracy: 0.6667 - val_loss: 0.6217\n",
      "Epoch 3/10\n",
      "\u001b[1m42/42\u001b[0m \u001b[32m━━━━━━━━━━━━━━━━━━━━\u001b[0m\u001b[37m\u001b[0m \u001b[1m32s\u001b[0m 758ms/step - accuracy: 0.7662 - loss: 0.5318 - val_accuracy: 0.7333 - val_loss: 0.5959\n",
      "Epoch 4/10\n",
      "\u001b[1m42/42\u001b[0m \u001b[32m━━━━━━━━━━━━━━━━━━━━\u001b[0m\u001b[37m\u001b[0m \u001b[1m33s\u001b[0m 774ms/step - accuracy: 0.8637 - loss: 0.3969 - val_accuracy: 0.8000 - val_loss: 0.5106\n",
      "Epoch 5/10\n",
      "\u001b[1m42/42\u001b[0m \u001b[32m━━━━━━━━━━━━━━━━━━━━\u001b[0m\u001b[37m\u001b[0m \u001b[1m32s\u001b[0m 754ms/step - accuracy: 0.9289 - loss: 0.2456 - val_accuracy: 0.8000 - val_loss: 0.4140\n",
      "Epoch 6/10\n",
      "\u001b[1m42/42\u001b[0m \u001b[32m━━━━━━━━━━━━━━━━━━━━\u001b[0m\u001b[37m\u001b[0m \u001b[1m32s\u001b[0m 756ms/step - accuracy: 0.9243 - loss: 0.2572 - val_accuracy: 0.8833 - val_loss: 0.3221\n",
      "Epoch 7/10\n",
      "\u001b[1m42/42\u001b[0m \u001b[32m━━━━━━━━━━━━━━━━━━━━\u001b[0m\u001b[37m\u001b[0m \u001b[1m32s\u001b[0m 754ms/step - accuracy: 0.9484 - loss: 0.1639 - val_accuracy: 0.9000 - val_loss: 0.3322\n",
      "Epoch 8/10\n",
      "\u001b[1m42/42\u001b[0m \u001b[32m━━━━━━━━━━━━━━━━━━━━\u001b[0m\u001b[37m\u001b[0m \u001b[1m32s\u001b[0m 758ms/step - accuracy: 0.9355 - loss: 0.2086 - val_accuracy: 0.8833 - val_loss: 0.3021\n",
      "Epoch 9/10\n",
      "\u001b[1m42/42\u001b[0m \u001b[32m━━━━━━━━━━━━━━━━━━━━\u001b[0m\u001b[37m\u001b[0m \u001b[1m32s\u001b[0m 752ms/step - accuracy: 0.9617 - loss: 0.1182 - val_accuracy: 0.7667 - val_loss: 0.8383\n",
      "Epoch 10/10\n",
      "\u001b[1m42/42\u001b[0m \u001b[32m━━━━━━━━━━━━━━━━━━━━\u001b[0m\u001b[37m\u001b[0m \u001b[1m32s\u001b[0m 749ms/step - accuracy: 0.9452 - loss: 0.1653 - val_accuracy: 0.8333 - val_loss: 0.5190\n"
     ]
    }
   ],
   "source": [
    "history = model.fit(x_train, y_train, epochs=10, batch_size=32, validation_data=(x_val, y_val))"
   ]
  },
  {
   "cell_type": "code",
   "execution_count": 16,
   "id": "942c5478",
   "metadata": {},
   "outputs": [
    {
     "name": "stdout",
     "output_type": "stream",
     "text": [
      "\u001b[1m5/5\u001b[0m \u001b[32m━━━━━━━━━━━━━━━━━━━━\u001b[0m\u001b[37m\u001b[0m \u001b[1m1s\u001b[0m 208ms/step - accuracy: 0.8965 - loss: 0.5241\n",
      "Test accuracy: 0.8600000143051147\n"
     ]
    }
   ],
   "source": [
    "test_loss, test_acc = model.evaluate(x_test, y_test)\n",
    "print('Test accuracy:', test_acc)"
   ]
  },
  {
   "cell_type": "code",
   "execution_count": null,
   "id": "fd81876a",
   "metadata": {},
   "outputs": [],
   "source": [
    "#https://www.kaggle.com/datasets/rashikrahmanpritom/plant-disease-recognition-dataset"
   ]
  }
 ],
 "metadata": {
  "kernelspec": {
   "display_name": "Python 3 (ipykernel)",
   "language": "python",
   "name": "python3"
  },
  "language_info": {
   "codemirror_mode": {
    "name": "ipython",
    "version": 3
   },
   "file_extension": ".py",
   "mimetype": "text/x-python",
   "name": "python",
   "nbconvert_exporter": "python",
   "pygments_lexer": "ipython3",
   "version": "3.10.9"
  }
 },
 "nbformat": 4,
 "nbformat_minor": 5
}
